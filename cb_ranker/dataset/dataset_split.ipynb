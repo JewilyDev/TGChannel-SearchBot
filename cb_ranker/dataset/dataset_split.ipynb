{
 "cells": [
  {
   "cell_type": "code",
   "execution_count": 2,
   "id": "a5cebadc-8a25-4219-9b15-4f6fc03441cb",
   "metadata": {},
   "outputs": [],
   "source": [
    "import polars as pl\n",
    "import numpy as np\n",
    "from math import ceil"
   ]
  },
  {
   "cell_type": "code",
   "execution_count": 3,
   "id": "02500721-f4f0-48f6-8694-b53b97574402",
   "metadata": {},
   "outputs": [
    {
     "data": {
      "text/plain": [
       "2480"
      ]
     },
     "execution_count": 3,
     "metadata": {},
     "output_type": "execute_result"
    }
   ],
   "source": [
    "df = pl.read_parquet('df_general_new.pq')\n",
    "\n",
    "train_size = ceil(df.shape[0] * 0.8)\n",
    "train_size"
   ]
  },
  {
   "cell_type": "code",
   "execution_count": 12,
   "id": "3d10ce3a-38f8-4095-ad18-6f8c2422b926",
   "metadata": {},
   "outputs": [],
   "source": [
    "train_indices = np.random.choice(np.arange(len(df)), train_size, replace=False)\n",
    "val_indicies = np.array(list(set(np.arange(len(df))) - set(train_indices)))"
   ]
  },
  {
   "cell_type": "code",
   "execution_count": 4,
   "id": "83fff5ec-c5a4-4d44-89db-4f1bfd03f544",
   "metadata": {},
   "outputs": [],
   "source": [
    "df = df.drop(['query', 'chunk_text'])"
   ]
  },
  {
   "cell_type": "code",
   "execution_count": 14,
   "id": "3e88a94f-751c-461d-ab36-b5a64bc9b490",
   "metadata": {},
   "outputs": [],
   "source": [
    "df[train_indices].write_parquet('train_df.pq')\n",
    "df[val_indicies].write_parquet('val_df.pq')"
   ]
  },
  {
   "cell_type": "code",
   "execution_count": 5,
   "id": "bb8f087a-d221-47f9-80ef-a7665ad9b6c0",
   "metadata": {},
   "outputs": [],
   "source": [
    "df_new = df.with_columns(query_rank = pl.col('query_embedding').rank(method='min'))\n",
    "df_new = df_new.drop([\"query_embedding\",\"chunk_text_embedding\",\"date\",\"query_len\",\"chunk_text_len\"])\n",
    "unique_rank = pl.Series(df_new.unique('query_rank').select('query_rank')).to_list()\n",
    "train_ranks = np.random.choice(unique_rank, int(len(unique_rank) * 0.8), replace = False)\n",
    "train_ranks\n",
    "val_ranks = list(set(unique_rank) - set(train_ranks))\n",
    "\n",
    "train_df = df_new.filter(pl.col('query_rank').is_in(train_ranks)).sort(\"query_rank\")\n",
    "val_df = df_new.filter(pl.col('query_rank').is_in(val_ranks)).sort(\"query_rank\")\n",
    "train_df.write_parquet('train_df.pq')\n",
    "val_df.write_parquet('val_df.pq')"
   ]
  },
  {
   "cell_type": "code",
   "execution_count": null,
   "id": "37bcfa3b-7ef1-4bbe-b495-3917a7015278",
   "metadata": {},
   "outputs": [],
   "source": []
  }
 ],
 "metadata": {
  "kernelspec": {
   "display_name": "znai",
   "language": "python",
   "name": "znai"
  },
  "language_info": {
   "codemirror_mode": {
    "name": "ipython",
    "version": 3
   },
   "file_extension": ".py",
   "mimetype": "text/x-python",
   "name": "python",
   "nbconvert_exporter": "python",
   "pygments_lexer": "ipython3",
   "version": "3.12.3"
  }
 },
 "nbformat": 4,
 "nbformat_minor": 5
}
