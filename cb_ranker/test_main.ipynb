{
 "cells": [
  {
   "cell_type": "code",
   "execution_count": null,
   "id": "5606e9fd-25bf-4cc7-8f7d-b82462d3d0f5",
   "metadata": {},
   "outputs": [],
   "source": [
    "import os\n",
    "os.chdir(\"/home/znai/tgbot/tgbotsb/cb_ranker\")"
   ]
  },
  {
   "cell_type": "code",
   "execution_count": null,
   "id": "88607668-51e1-4c37-ae77-79856680e1e4",
   "metadata": {},
   "outputs": [],
   "source": [
    "import json\n",
    "import pyarrow\n",
    "from omegaconf import OmegaConf\n",
    "from src.cb_ranker import CatBoostRank\n",
    "from catboost import CatBoostRanker, Pool\n",
    "import pandas as pd\n",
    "import numpy as np\n",
    "import polars as pl\n",
    "import matplotlib.pyplot as plt\n",
    "config = OmegaConf.load(\"configs/cb_ranker_config.yaml\")\n",
    "\n",
    "\n",
    "# iterations: 1000\n",
    "# learning_rate: 0.03\n",
    "# depth: 6\n",
    "# verbose: 100\n",
    "\n"
   ]
  },
  {
   "cell_type": "code",
   "execution_count": null,
   "id": "cfec47f4-a291-4d87-8365-034955d8134e",
   "metadata": {},
   "outputs": [],
   "source": [
    "train_df = pd.read_parquet('dataset/train_df.pq', engine='pyarrow')\n",
    "val_df = pd.read_parquet('dataset/val_df.pq', engine='pyarrow')"
   ]
  },
  {
   "cell_type": "code",
   "execution_count": null,
   "id": "29a5c333-0e9d-4949-935d-a9ee314ecbb3",
   "metadata": {},
   "outputs": [],
   "source": [
    "grouped_val_sum = val_df.groupby(['query_rank']).sum()\n",
    "grouped_val_count = val_df.groupby(['query_rank']).count()\n",
    "grouped_train_sum = train_df.groupby(['query_rank']).sum()\n",
    "grouped_train_count = train_df.groupby(['query_rank']).count()\n",
    "zero_val_ranks = grouped_val_sum[grouped_val_sum['feedback'] == 0].index.tolist()\n",
    "no_full_group_val = grouped_val_sum[grouped_val_sum['feedback'] == 1].index.tolist()\n",
    "zero_train_ranks = grouped_train_sum[grouped_train_sum['feedback'] == 0].index.tolist()\n",
    "no_full_group_train = grouped_train_sum[grouped_train_sum['feedback'] == 1].index.tolist()\n",
    "drop_group_val = zero_val_ranks + no_full_group_val\n",
    "drop_group_train = zero_train_ranks + no_full_group_train\n",
    "train_df = train_df[~train_df['query_rank'].isin(drop_group_train)]\n",
    "val_df = val_df[~val_df['query_rank'].isin(drop_group_val)]"
   ]
  },
  {
   "cell_type": "code",
   "execution_count": null,
   "id": "949199d4-a058-4bf8-ade3-f09df1448deb",
   "metadata": {},
   "outputs": [],
   "source": [
    "\n",
    "ranker = CatBoostRank(config=config,\n",
    "        cat_features=['is_release',\"is_tech_light\"],\n",
    "        group_id_column='query_rank',\n",
    "        target_column='feedback'  # Или 'MVS'\n",
    ")\n",
    "\n",
    "ranker.fit(train_df)\n",
    "predictions = ranker.predict(val_df)\n",
    "\n",
    "val_metrics = ranker.evaluate(val_df)"
   ]
  },
  {
   "cell_type": "code",
   "execution_count": null,
   "id": "673138b1-d7b7-460e-b513-4f14a3810993",
   "metadata": {},
   "outputs": [],
   "source": [
    "val_metrics"
   ]
  },
  {
   "cell_type": "code",
   "execution_count": null,
   "id": "c0cffb1e-b0e3-4790-a92e-da2a41c0529b",
   "metadata": {},
   "outputs": [],
   "source": [
    "val_df[:10]"
   ]
  },
  {
   "cell_type": "code",
   "execution_count": 44,
   "id": "443a21f3-39ad-40ce-a6fd-ea86938f9745",
   "metadata": {},
   "outputs": [],
   "source": [
    "\n",
    "ranker.model.save_model(\"cbranker\")\n"
   ]
  },
  {
   "cell_type": "code",
   "execution_count": null,
   "id": "678db1bf-e622-4161-926d-9a74cdbd871e",
   "metadata": {},
   "outputs": [],
   "source": []
  }
 ],
 "metadata": {
  "kernelspec": {
   "display_name": "znai",
   "language": "python",
   "name": "znai"
  },
  "language_info": {
   "codemirror_mode": {
    "name": "ipython",
    "version": 3
   },
   "file_extension": ".py",
   "mimetype": "text/x-python",
   "name": "python",
   "nbconvert_exporter": "python",
   "pygments_lexer": "ipython3",
   "version": "3.12.3"
  }
 },
 "nbformat": 4,
 "nbformat_minor": 5
}
